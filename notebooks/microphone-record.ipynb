{
 "cells": [
  {
   "cell_type": "markdown",
   "metadata": {},
   "source": [
    "# Recording from Microphone\n",
    "\n",
    "Currently, I can't record from within my VM, and I'm not sure why. So, I run this script on my Windows host side and then move the files into my VM afterward. \n",
    "\n",
    "I use this example to record \"sounds/noises\" from the left side of my laptop and again from the right side of my laptop, hence the filenames \"left-side\" and \"right-side.\" \n",
    "\n",
    "I sample at 10kHz for one minute. My thought is to break this one minute clip into a rows of data. I'll do that in another script. \n",
    "\n",
    "For my testing, \"left-side\" is me tapping on the left side of my laptop at about a 2Hz rate. Same follows for \"right-side.\" \n",
    "\n",
    "I then use these files within the __feature-extraction__ notebook for further processing. \n",
    "\n",
    "My hope is that \"something\" can differentiate between each side.\n",
    "\n",
    "_I didn't want to use an existing example, instead I wanted to think of something I could sample on my own and build a neural network. This is all I could think of for the time being._ "
   ]
  },
  {
   "cell_type": "code",
   "execution_count": null,
   "metadata": {},
   "outputs": [],
   "source": [
    "import pyaudio\n",
    "import wave\n",
    "import csv\n",
    "import wav2vec"
   ]
  },
  {
   "cell_type": "code",
   "execution_count": null,
   "metadata": {},
   "outputs": [],
   "source": [
    "CHUNK = 1024\n",
    "FORMAT = pyaudio.paInt16\n",
    "CHANNELS = 2\n",
    "RATE = 10000\n",
    "RECORD_SECONDS = 60\n",
    "WAVE_OUTPUT_FILENAME = \"left-side.wav\" \n",
    "CSV_OUTPUT_FILENAME = \"left-side.csv\"\n",
    "\n",
    "p = pyaudio.PyAudio()\n",
    "\n",
    "stream = p.open(format=FORMAT,\n",
    "                channels=CHANNELS,\n",
    "                rate=RATE,\n",
    "                input=True,\n",
    "                frames_per_buffer=CHUNK)"
   ]
  },
  {
   "cell_type": "code",
   "execution_count": null,
   "metadata": {},
   "outputs": [],
   "source": [
    "print(\"Recording ...\")\n",
    "\n",
    "frames = []\n",
    "\n",
    "for i in range(0, int(RATE / CHUNK * RECORD_SECONDS)):\n",
    "    data = stream.read(CHUNK)\n",
    "    frames.append(data)\n",
    "\n",
    "print(\"Stop Recording\")\n",
    "\n",
    "stream.stop_stream()\n",
    "stream.close()\n",
    "p.terminate()"
   ]
  },
  {
   "cell_type": "code",
   "execution_count": null,
   "metadata": {},
   "outputs": [],
   "source": [
    "wf = wave.open(WAVE_OUTPUT_FILENAME, 'wb')\n",
    "wf.setnchannels(CHANNELS)\n",
    "wf.setsampwidth(p.get_sample_size(FORMAT))\n",
    "wf.setframerate(RATE)\n",
    "wf.writeframes(b''.join(frames))\n",
    "wf.close()"
   ]
  }
 ],
 "metadata": {
  "kernelspec": {
   "display_name": "Python 3",
   "language": "python",
   "name": "python3"
  },
  "language_info": {
   "codemirror_mode": {
    "name": "ipython",
    "version": 3
   },
   "file_extension": ".py",
   "mimetype": "text/x-python",
   "name": "python",
   "nbconvert_exporter": "python",
   "pygments_lexer": "ipython3",
   "version": "3.7.1"
  }
 },
 "nbformat": 4,
 "nbformat_minor": 2
}
