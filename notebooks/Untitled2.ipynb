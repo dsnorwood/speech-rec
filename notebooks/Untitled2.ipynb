{
 "cells": [
  {
   "cell_type": "markdown",
   "metadata": {},
   "source": [
    "# Process Sampled Data\n",
    "\n",
    "This notebook will show how to process the \"left-side\" and \"right-side\" wav files. \n",
    "\n",
    "Specifically, I will take each one minute clip and build 120 rows (one second each) of a dataset.\n",
    "\n",
    "This could be further processed, structured, etc. based on the features extracted for a neural network. "
   ]
  },
  {
   "cell_type": "code",
   "execution_count": null,
   "metadata": {},
   "outputs": [],
   "source": [
    "import argparse\n",
    "import wave\n",
    "import struct\n",
    "import wav2vec\n",
    "import matplotlib.pyplot as plt\n",
    "import csv\n",
    "import numpy as np\n",
    "\n",
    "import scipy\n",
    "from scipy import signal\n",
    "from scipy.io.wavfile import read\n",
    "from scipy.io import wavfile\n",
    "\n",
    "import librosa\n",
    "import librosa.display\n",
    "\n",
    "from matplotlib import cm\n"
   ]
  },
  {
   "cell_type": "code",
   "execution_count": null,
   "metadata": {},
   "outputs": [],
   "source": [
    "def getWav(audio_wav):\n",
    "    print(\"getting wav file specs ... \")\n",
    "    #upload .wav files (sampled from Windows side and copied over to guest side)\n",
    "    rate, sampleWav0    = read(audio_wav)\n",
    "\n",
    "    # gets one channel from the wav file input\n",
    "    sample                                      = np.array(sampleWav0)\n",
    "\n",
    "    dim = len(sample.shape)\n",
    "    if dim >= 2:\n",
    "        sampleWav = sampleWav0[:,0]\n",
    "        sample = sample[:,0]\n",
    "    else:\n",
    "        sampleWav = sampleWav0\n",
    "\n",
    "    return sample, sampleWav, rate\n"
   ]
  },
  {
   "cell_type": "code",
   "execution_count": null,
   "metadata": {},
   "outputs": [],
   "source": [
    "def plotData(SAMPLE, sample, sample_mfcc):\n",
    "    # Subplots\n",
    "    fig, axs                    = plt.subplots(3, 1)\n",
    "\n",
    "    axs[0].plot(np.abs(SAMPLE))\n",
    "    axs[1].plot(sample)\n",
    "    librosa.display.specshow(sample_mfcc, x_axis='time')\n",
    "\n",
    "    fig.tight_layout()\n",
    "    plt.show()\n"
   ]
  },
  {
   "cell_type": "code",
   "execution_count": null,
   "metadata": {},
   "outputs": [],
   "source": [
    "def main():\n",
    "    parser          = argparse.ArgumentParser()\n",
    "    parser.add_argument('--train_file', '-t', type=str)\n",
    "    parser.add_argument('--predict_file', '-p', type=str)\n",
    "    args            = parser.parse_args()\n",
    "\n",
    "    #filename       = getTestWav() # get test wave\n",
    "    train_filename        = args.train_file    # get recorded wave\n",
    "    predict_filename      = args.predict_file\n",
    "\n",
    "    train, trainWav, rate       = getWav(train_filename)\n",
    "    predict, predictWav, rate   = getWav(predict_filename)\n",
    "\n",
    "    # for plotting\n",
    "    TRAIN           = getFFT(train)\n",
    "    PREDICT         = getFFT(predict)\n",
    "\n",
    "    # features for network\n",
    "    train_mfcc      = getMFCC(train_filename)\n",
    "    predict_mfcc    = getMFCC(predict_filename)\n",
    "\n",
    "    #plotData(TRAIN, train, train_mfcc)\n",
    "    #plotData(PREDICT, predict, predict_mfcc)\n",
    "\n",
    "    post_train      = generateTrainingSet(train_mfcc)\n",
    "    post_predict    = generateTrainingSet(predict_mfcc)\n",
    "\n",
    "    classified_train   = addClassifiers(post_train, 1)\n",
    "    classified_predict = addClassifiers(post_predict, 0)\n",
    "\n",
    "    training_data, raw, classifiers = buildTrainingData(classified_train, classified_predict)\n",
    "\n",
    "    print(training_data.shape)\n",
    "    print(raw.shape)\n",
    "    print(classifiers.shape)\n",
    "\n",
    "    model           = buildLSTM()\n",
    "    model           = trainLSTM(model, raw, classifiers)\n",
    "\n",
    "    print(\"CLASSIFIED TRAIN:\")\n",
    "    print(classified_train.shape)\n",
    "    print(classified_train)\n",
    "\n",
    "    raw = classified_train[:1130]\n",
    "    print(\"RAW:\")\n",
    "    print(raw.shape)\n",
    "    print(raw)\n",
    "\n",
    "    predictLSTM(model, raw)\n"
   ]
  },
  {
   "cell_type": "code",
   "execution_count": null,
   "metadata": {},
   "outputs": [],
   "source": [
    "if __name__ == '__main__':\n",
    "    main()\n",
    "              "
   ]
  }
 ],
 "metadata": {
  "kernelspec": {
   "display_name": "Python 3",
   "language": "python",
   "name": "python3"
  },
  "language_info": {
   "codemirror_mode": {
    "name": "ipython",
    "version": 3
   },
   "file_extension": ".py",
   "mimetype": "text/x-python",
   "name": "python",
   "nbconvert_exporter": "python",
   "pygments_lexer": "ipython3",
   "version": "3.7.1"
  }
 },
 "nbformat": 4,
 "nbformat_minor": 2
}
